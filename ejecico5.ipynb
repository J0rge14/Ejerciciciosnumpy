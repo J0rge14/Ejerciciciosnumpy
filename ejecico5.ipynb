{
    "cells": [
        {
            "cell_type": "code",
            "execution_count": 1,
            "metadata": {},
            "outputs": [
                {
                    "name": "stdout",
                    "output_type": "stream",
                    "text": [
                        "La distancia euclidiana entre los dos puntos es: 2.23606797749979\n"
                    ]
                }
            ],
            "source": [
                "import numpy as np\n",
                "#5. Distancia euclidiana con fórmula optimizada\n",
                "# Crea los dos puntos en un espacio de 5 dimensiones\n",
                "punto1 = np.array([2, 3, 5, 7, 11])\n",
                "punto2 = np.array([1, 4, 6, 8, 10])\n",
                "\n",
                "# Calcula la distancia euclidiana usando np.linalg.norm()\n",
                "distancia = np.linalg.norm(punto1 - punto2)\n",
                "\n",
                "# Imprime\n",
                "print(\"La distancia euclidiana entre los dos puntos es:\", distancia)"
            ]
        }
    ],
    "metadata": {
        "kernelspec": {
            "display_name": ".venv",
            "language": "python",
            "name": "python3"
        },
        "language_info": {
            "codemirror_mode": {
                "name": "ipython",
                "version": 3
            },
            "file_extension": ".py",
            "mimetype": "text/x-python",
            "name": "python",
            "nbconvert_exporter": "python",
            "pygments_lexer": "ipython3",
            "version": "3.12.1"
        }
    },
    "nbformat": 4,
    "nbformat_minor": 4
}
