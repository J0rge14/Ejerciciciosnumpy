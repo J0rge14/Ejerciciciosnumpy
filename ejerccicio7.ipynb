{
 "cells": [
  {
   "cell_type": "code",
   "execution_count": 2,
   "id": "1074e1eb",
   "metadata": {},
   "outputs": [
    {
     "name": "stdout",
     "output_type": "stream",
     "text": [
      "El producto cruzado entre v1 y v2 es: [ 4 -3 -7]\n",
      "El producto cruzado entre v1 y el nuevo v2 es: [ 4 -3 -5]\n",
      "El producto cruzado entre v1 y v2 en 2D es: [ 0  0 -7]\n"
     ]
    }
   ],
   "source": [
    "import numpy as np\n",
    "\n",
    "# 7. Producto cruzado para calcular variaciones en la ruta de un avión\n",
    "\n",
    "#Define los siguientes vectores en NumPy: \n",
    "v1 = np.array([3, 4, 0])  \n",
    "v2 = np.array([4, 3, 1])  \n",
    "\n",
    "# Calcula el producto cruzado entre v1 y v2 utilizando NumPy.\n",
    "producto_cruzado = np.cross(v1, v2)\n",
    "\n",
    "# Impresión del resultado del producto cruzado\n",
    "print('El producto cruzado entre v1 y v2 es:', producto_cruzado)\n",
    "\n",
    "# Interpreta el resultado\n",
    "# El vector producto cruzado indica la dirección de la desviación\n",
    "\n",
    "# Respuestas a las preguntas:\n",
    "# 1. Dirección de la desviación\n",
    "# La desviación ocurre en la dirección del vector cruzado. Si el resultado tiene componentes en z, \n",
    "# es que la desviación ocurre en la dirección de su eje\n",
    "\n",
    "# 2. Corrección de la trayectoria del avión\n",
    "# La trayectoria puede corregirse ajustando la dirección de vuelo real para alinearla con el vuelo previsto\n",
    "\n",
    "# Desafío Extra:\n",
    "# Modifica el vector v2 y observa cómo cambia la desviación.\n",
    "v2_modificado = np.array([5, 5, 1]) \n",
    "producto_cruzado_modificado = np.cross(v1, v2_modificado)\n",
    "print('El producto cruzado entre v1 y el nuevo v2 es:', producto_cruzado_modificado)\n",
    "\n",
    "# si el avión voalra en un plano 2D sin z\n",
    "v2_2d = np.array([4, 3, 0]) \n",
    "producto_cruzado_2d = np.cross(v1, v2_2d)\n",
    "print('El producto cruzado entre v1 y v2 en 2D es:', producto_cruzado_2d)\n"
   ]
  },
  {
   "cell_type": "markdown",
   "id": "58623720",
   "metadata": {},
   "source": []
  }
 ],
 "metadata": {
  "kernelspec": {
   "display_name": ".venv",
   "language": "python",
   "name": "python3"
  },
  "language_info": {
   "codemirror_mode": {
    "name": "ipython",
    "version": 3
   },
   "file_extension": ".py",
   "mimetype": "text/x-python",
   "name": "python",
   "nbconvert_exporter": "python",
   "pygments_lexer": "ipython3",
   "version": "3.12.1"
  }
 },
 "nbformat": 4,
 "nbformat_minor": 5
}
