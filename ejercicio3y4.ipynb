{
 "cells": [
  {
   "cell_type": "code",
   "execution_count": 3,
   "metadata": {},
   "outputs": [
    {
     "name": "stdout",
     "output_type": "stream",
     "text": [
      "[ 1  2  3  4  5  6  7  8  9 10]\n",
      "[[1 2 3]\n",
      " [4 5 6]\n",
      " [7 8 9]]\n"
     ]
    }
   ],
   "source": [
    "import numpy as np\n",
    "\n",
    "#1 crea un array 1D con los números del 1 al 10\n",
    "array_1d = np.arange(1, 11)\n",
    "print(array_1d)\n",
    "\n",
    "# crea un array 2D de tamaño 3x3 con valores del 1 al 9\n",
    "array_2d = np.arange(1, 10).reshape(3, 3)\n",
    "print(array_2d)"
   ]
  },
  {
   "cell_type": "code",
   "execution_count": 4,
   "metadata": {},
   "outputs": [
    {
     "name": "stdout",
     "output_type": "stream",
     "text": [
      "1 10\n",
      "1\n",
      "9\n",
      "6\n"
     ]
    }
   ],
   "source": [
    "#2 indexación en arrays\n",
    "# primer y último elemento del array 1D\n",
    "print(array_1d[0], array_1d[-1])\n",
    "\n",
    "# primer elemento de la primera fila del array 2D\n",
    "print(array_2d[0, 0])\n",
    "\n",
    "# último elemento de la última fila del array 2D\n",
    "print(array_2d[-1, -1])\n",
    "\n",
    "# elemento ubicado en la segunda fila y tercera columna del array 2D\n",
    "print(array_2d[1, 2])"
   ]
  },
  {
   "cell_type": "code",
   "execution_count": 5,
   "metadata": {},
   "outputs": [
    {
     "name": "stdout",
     "output_type": "stream",
     "text": [
      "[1 2 3]\n",
      "[2 5 8]\n"
     ]
    }
   ],
   "source": [
    "#3 selección de filas y columnas\n",
    "# primera fila completa del array 2D\n",
    "print(array_2d[0, :])\n",
    "\n",
    "# segunda columna completa del array 2D\n",
    "print(array_2d[:, 1])"
   ]
  },
  {
   "cell_type": "code",
   "execution_count": 10,
   "metadata": {},
   "outputs": [
    {
     "name": "stdout",
     "output_type": "stream",
     "text": [
      "[[[ 83 151 217]\n",
      "  [ 34  50   3]\n",
      "  [129  59 147]\n",
      "  [ 54  43  50]]\n",
      "\n",
      " [[219  77  16]\n",
      "  [ 47  49  63]\n",
      "  [122 122 118]\n",
      "  [224 251  33]]\n",
      "\n",
      " [[222 255  50]\n",
      "  [128 133  91]\n",
      "  [ 89  50 245]\n",
      "  [ 43 128  28]]\n",
      "\n",
      " [[233  74  25]\n",
      "  [222 215 161]\n",
      "  [223 252 108]\n",
      "  [154  71  84]]]\n",
      "[ 83 151 217]\n",
      "[154  71  84]\n",
      "122\n"
     ]
    }
   ],
   "source": [
    "#4. Explorando una imagen en formato de Array 3D\n",
    "#  genera un array 3D de tamaño 4x4x3 con valores aleatorios entre 0 y 255\n",
    "imagen = np.random.randint(0, 256, (4, 4, 3))\n",
    "print(imagen)\n",
    "\n",
    "# indexación en el array 3D\n",
    "# primer píxel con sus valores RGB\n",
    "print(imagen[0, 0, :])\n",
    "\n",
    "# último píxel de la imagen\n",
    "print(imagen[-1, -1, :])\n",
    "\n",
    "# valor del canal rojo del píxel en la segunda fila y tercera columna\n",
    "print(imagen[1, 2, 0])"
   ]
  },
  {
   "cell_type": "code",
   "execution_count": 7,
   "metadata": {},
   "outputs": [
    {
     "name": "stdout",
     "output_type": "stream",
     "text": [
      "[[230 186  12]\n",
      " [ 62 243 247]\n",
      " [195 135  86]\n",
      " [106 243  31]]\n",
      "[[ 12 247  86  31]\n",
      " [102  44 127 252]\n",
      " [218 147 155 208]\n",
      " [228  60 197 142]]\n",
      "[[[173 117  44]\n",
      "  [201 113 127]]\n",
      "\n",
      " [[221   6 147]\n",
      "  [ 19 146 155]]]\n"
     ]
    }
   ],
   "source": [
    "# slicing en el array 3D\n",
    "# toda la primera fila de la imagen\n",
    "print(imagen[0, :, :])\n",
    "\n",
    "# solo los valores del canal azul para todos los píxeles\n",
    "print(imagen[:, :, 2])\n",
    "\n",
    "# recorte central de la imagen\n",
    "print(imagen[1:3, 1:3, :])"
   ]
  }
 ],
 "metadata": {
  "kernelspec": {
   "display_name": ".venv",
   "language": "python",
   "name": "python3"
  },
  "language_info": {
   "codemirror_mode": {
    "name": "ipython",
    "version": 3
   },
   "file_extension": ".py",
   "mimetype": "text/x-python",
   "name": "python",
   "nbconvert_exporter": "python",
   "pygments_lexer": "ipython3",
   "version": "3.12.1"
  }
 },
 "nbformat": 4,
 "nbformat_minor": 4
}
