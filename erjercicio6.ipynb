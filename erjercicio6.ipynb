{
    "cells": [
        {
            "cell_type": "code",
            "execution_count": 3,
            "metadata": {},
            "outputs": [
                {
                    "name": "stdout",
                    "output_type": "stream",
                    "text": [
                        "Norma L1 por estudiante: [737 720 766 756 705 774 709 763 773 762]\n",
                        "Norma L1 por asignatura: [739 764 746 804 709 743 773 692 738 757]\n",
                        "Norma L2 por estudiante: [235.98516903 231.79301111 246.02032436 243.73756379 227.02643018\n",
                        " 247.06679259 226.08626672 242.8147442  246.27829787 244.45040397]\n",
                        "Norma L2 por asignatura: [236.35777965 244.06556496 238.67970169 256.24597558 227.08808864\n",
                        " 237.93486504 246.69616941 223.90623037 236.40219965 243.50154004]\n",
                        "Suma total por estudiante: [737 720 766 756 705 774 709 763 773 762]\n",
                        "Suma total por asignatura: [739 764 746 804 709 743 773 692 738 757]\n"
                    ]
                }
            ],
            "source": [
                "import numpy as np\n",
                "\n",
                "# Datos de entrada: matriz de calificaciones\n",
                "calificaciones = np.array([\n",
                "    [88, 78, 64, 92, 57, 70, 88, 68, 72, 60],\n",
                "    [60, 73, 85, 89, 73, 52, 71, 51, 73, 93],\n",
                "    [79, 87, 51, 70, 82, 61, 71, 93, 74, 98],\n",
                "    [76, 91, 77, 65, 64, 96, 93, 52, 86, 56],\n",
                "    [70, 58, 88, 67, 53, 74, 63, 99, 58, 75],\n",
                "    [82, 79, 91, 88, 66, 78, 79, 63, 59, 89],\n",
                "    [56, 66, 73, 77, 75, 80, 70, 64, 88, 60],\n",
                "    [80, 62, 79, 85, 92, 72, 80, 69, 78, 66],\n",
                "    [88, 90, 69, 77, 66, 72, 65, 73, 92, 81],\n",
                "    [60, 80, 69, 94, 81, 88, 93, 60, 58, 79]\n",
                "])\n",
                "\n",
                "# norma L1 por estudiantes)\n",
                "norma_L1_estudiantes = np.sum(np.abs(calificaciones), axis=1)\n",
                "print(\"Norma L1 por estudiante:\", norma_L1_estudiantes)\n",
                "\n",
                "# nrma L1 por asignatura\n",
                "norma_L1_asignaturas = np.sum(np.abs(calificaciones), axis=0)\n",
                "print(\"Norma L1 por asignatura:\", norma_L1_asignaturas)\n",
                "\n",
                "# Norma L2 por estudiante\n",
                "norma_L2_estudiantes = np.sqrt(np.sum(calificaciones**2, axis=1))\n",
                "print(\"Norma L2 por estudiante:\", norma_L2_estudiantes)\n",
                "\n",
                "# Norma L2 por asignatura\n",
                "norma_L2_asignaturas = np.sqrt(np.sum(calificaciones**2, axis=0))\n",
                "print(\"Norma L2 por asignatura:\", norma_L2_asignaturas)\n",
                "\n",
                "# Suma total por estudiante\n",
                "suma_por_estudiante = np.sum(calificaciones, axis=1)\n",
                "print(\"Suma total por estudiante:\", suma_por_estudiante)\n",
                "\n",
                "# suma total por asignatura\n",
                "suma_por_asignatura = np.sum(calificaciones, axis=0)\n",
                "print(\"Suma total por asignatura:\", suma_por_asignatura)"
            ]
        }
    ],
    "metadata": {
        "kernelspec": {
            "display_name": ".venv",
            "language": "python",
            "name": "python3"
        },
        "language_info": {
            "codemirror_mode": {
                "name": "ipython",
                "version": 3
            },
            "file_extension": ".py",
            "mimetype": "text/x-python",
            "name": "python",
            "nbconvert_exporter": "python",
            "pygments_lexer": "ipython3",
            "version": "3.12.1"
        }
    },
    "nbformat": 4,
    "nbformat_minor": 4
}
