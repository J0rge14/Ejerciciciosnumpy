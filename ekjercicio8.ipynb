{
 "cells": [
  {
   "cell_type": "code",
   "execution_count": null,
   "id": "56e7d9fa",
   "metadata": {},
   "outputs": [],
   "source": [
    "import numpy as np\n",
    "\n",
    "# Representa los datos como vectores en NumPy.\n",
    "tiempos = np.array([11, 22, 50, 110, 250])  #pruebas 100m, 200m, 400m, 800m, 1500m\n",
    "importancia = np.array([0.4, 0.3, 0.2, 0.1, 0.05])  # importancia de las pruebas\n",
    "\n",
    "# Calcula el producto escalar entre los vectores.\n",
    "producto_escalar = np.dot(tiempos, importancia)\n",
    "print('El producto escalar entre los vectores de tiempos e importancia es:', producto_escalar)\n",
    "\n",
    "# Explica qué significa el resultado obtenido en términos del rendimiento del atleta\n",
    "# Un valor menor indica un mejor rendimiento, ya que el atleta tiene mejores tiempos en las pruebas más importantes.\n",
    "\n",
    "# Desafíos adicionales:\n",
    "# 1. ¿Cómo afectaría al resultado si el atleta mejora su tiempo en la prueba de 100m?\n",
    "# Si el atleta mejora su tiempo en la prueba de 100m el valor del producto escalar disminuiría. Esto seria una mejora en el rendimiento general.\n",
    "\n",
    "# 2. ¿Qué pasaría si le damos más importancia a las pruebas de resistencia?\n",
    "# Si aumentamos el valor de la importancia en las pruebas de resistencia el producto escalar aumentaría si los tiempos en esas pruebas siguen siendo altos\n",
    "\n",
    "# 3. ¿Cómo se podría utilizar esta métrica para comparar a diferentes atletas?\n",
    "# Esta métrica se puede  utilizar para comparar el rendimiento de varios atletas al calcular su índice de rendimiento"
   ]
  }
 ],
 "metadata": {
  "kernelspec": {
   "display_name": "Python 3",
   "language": "python",
   "name": "python3"
  },
  "language_info": {
   "codemirror_mode": {
    "name": "ipython",
    "version": "3"
   },
   "file_extension": ".py",
   "mimetype": "text/x-python",
   "name": "python",
   "nbconvert_exporter": "python",
   "version": "3.9.7"
  }
 },
 "nbformat": 4,
 "nbformat_minor": 5
}
