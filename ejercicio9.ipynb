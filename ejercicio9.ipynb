{
 "cells": [
  {
   "cell_type": "code",
   "execution_count": 2,
   "id": "1c743759",
   "metadata": {},
   "outputs": [
    {
     "name": "stdout",
     "output_type": "stream",
     "text": [
      "Estadísticas normalizadas de los jugadores:\n",
      "[[0.03290221 0.02303155 0.98706643 0.08225554 0.13160886]\n",
      " [0.05828815 0.03885877 0.97146918 0.1165763  0.19429384]\n",
      " [0.01765627 0.04237506 0.98875136 0.0706251  0.12359392]\n",
      " [0.02557216 0.01917912 0.9909212  0.0479478  0.12146776]\n",
      " [0.04354749 0.03266062 0.97981848 0.10161081 0.16330308]]\n"
     ]
    }
   ],
   "source": [
    "import numpy as np\n",
    "\n",
    "# Representar el rendimiento de los jugadores como una matriz en NumPy.\n",
    "jugadores = np.array([\n",
    "    [10, 7, 300, 25, 40],  \n",
    "    [15, 10, 250, 30, 50], \n",
    "    [5, 12, 280, 20, 35],  \n",
    "    [8, 6, 310, 15, 38],   \n",
    "    [12, 9, 270, 28, 45]   \n",
    "])\n",
    "\n",
    "# Aplicar la normalización L2 a cada jugador (por filas, usando axis=1).\n",
    "normas_l2 = np.linalg.norm(jugadores, axis=1, keepdims=True)  # Calcular la norma L2 por jugador\n",
    "jugadores_normalizados = jugadores / normas_l2  # Dividir cada fila por su norma L2\n",
    "\n",
    "# Mostrar las estadísticas normalizadas de los jugadores\n",
    "print(\"Estadísticas normalizadas de los jugadores:\")\n",
    "print(jugadores_normalizados)\n",
    "\n",
    "# Pregunta 1: ¿Cómo cambian los valores después de la normalización?\n",
    "# Respuesta: Los valores de cada jugador se escalan de forma proporcional pero ajustados a una escala donde la suma de los cuadrados de los valores es igual a 1\n",
    "\n",
    "# Pregunta 2: ¿Por qué la normalización L2 es útil cuando los datos tienen escalas diferentes?\n",
    "# Respuesta: La normalización L2 elimina  las diferencias de escala entre las categoríasasi cada estadística contribuye proporcionalmente\n",
    "\n",
    "# Pregunta 3: ¿Qué pasaría si normalizamos por columnas (axis=0) en lugar de por filas?\n",
    "# Respuesta: Si normalizamos por columnas hacemmos que las estadísticas sean comparables entre categorías pero perdiendo proporcionalidad\n"
   ]
  }
 ],
 "metadata": {
  "kernelspec": {
   "display_name": ".venv",
   "language": "python",
   "name": "python3"
  },
  "language_info": {
   "codemirror_mode": {
    "name": "ipython",
    "version": 3
   },
   "file_extension": ".py",
   "mimetype": "text/x-python",
   "name": "python",
   "nbconvert_exporter": "python",
   "pygments_lexer": "ipython3",
   "version": "3.12.1"
  }
 },
 "nbformat": 4,
 "nbformat_minor": 5
}
