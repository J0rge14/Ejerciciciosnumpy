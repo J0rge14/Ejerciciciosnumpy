{
 "cells": [
  {
   "cell_type": "code",
   "execution_count": 2,
   "metadata": {},
   "outputs": [
    {
     "name": "stdout",
     "output_type": "stream",
     "text": [
      "['Smartphone' 'Tablet' 'Laptop' 'Auriculares' 'Teclado']\n"
     ]
    }
   ],
   "source": [
    "import numpy as np\n",
    "\n",
    "# 1Crear un array unidimensional con el nombre de los productos\n",
    "productos = np.array([\"Smartphone\", \"Tablet\", \"Laptop\", \"Auriculares\", \"Teclado\"])\n",
    "print(productos)"
   ]
  },
  {
   "cell_type": "code",
   "execution_count": 3,
   "metadata": {},
   "outputs": [
    {
     "name": "stdout",
     "output_type": "stream",
     "text": [
      "[[50 20 30]\n",
      " [30 15 10]\n",
      " [15 10  5]\n",
      " [40 25 35]\n",
      " [60 45 50]]\n"
     ]
    }
   ],
   "source": [
    "# 2Crear un array bidimensional con la cantidad en stock de cada producto\n",
    "stock = np.array([\n",
    "    [50, 20, 30],  # stock de smartphone en diferentes almacenes\n",
    "    [30, 15, 10],  # stock de tablet en diferentes almacenes\n",
    "    [15, 10, 5],   # stock de laptop en diferentes almacenes\n",
    "    [40, 25, 35],  # stock de auriculares en diferentes almacenes\n",
    "    [60, 45, 50]   # stock de teclado en diferentes almacenes\n",
    "])\n",
    "print(stock)"
   ]
  },
  {
   "cell_type": "code",
   "execution_count": 4,
   "metadata": {},
   "outputs": [
    {
     "name": "stdout",
     "output_type": "stream",
     "text": [
      "[[5 3 2 6 4]\n",
      " [7 4 1 8 5]\n",
      " [6 2 3 5 4]]\n"
     ]
    }
   ],
   "source": [
    "#3 Crear un array tridimensional para registrar las ventas de cada producto durante una semana\n",
    "ventas = np.array([\n",
    "    [5, 3, 2, 6, 4],  \n",
    "    [7, 4, 1, 8, 5],  \n",
    "    [6, 2, 3, 5, 4]   \n",
    "])\n",
    "print(ventas)"
   ]
  },
  {
   "cell_type": "code",
   "execution_count": 5,
   "metadata": {},
   "outputs": [
    {
     "name": "stdout",
     "output_type": "stream",
     "text": [
      "[0. 0. 0. 0. 0.]\n"
     ]
    }
   ],
   "source": [
    "#4 Crear un array de ceros para los productos no vendidos hoy\n",
    "no_vendidos = np.zeros(5)\n",
    "print(no_vendidos)"
   ]
  },
  {
   "cell_type": "code",
   "execution_count": 6,
   "metadata": {},
   "outputs": [
    {
     "name": "stdout",
     "output_type": "stream",
     "text": [
      "[1 0 0 0 1]\n"
     ]
    }
   ],
   "source": [
    "#5Crear un array de unos para los productos que están en promoción\n",
    "promocion = np.array([1, 0, 0, 0, 1])\n",
    "print(promocion)"
   ]
  },
  {
   "cell_type": "code",
   "execution_count": 7,
   "metadata": {},
   "outputs": [
    {
     "name": "stdout",
     "output_type": "stream",
     "text": [
      "[  50  100  150  200  250  300  350  400  450  500  550  600  650  700\n",
      "  750  800  850  900  950 1000]\n"
     ]
    }
   ],
   "source": [
    "#6 Crear un array con un rango de precios de productos\n",
    "precios_rango = np.arange(50, 1050, 50)\n",
    "print(precios_rango)"
   ]
  },
  {
   "cell_type": "code",
   "execution_count": 8,
   "metadata": {},
   "outputs": [
    {
     "name": "stdout",
     "output_type": "stream",
     "text": [
      "[483.24284798 181.09480526 185.13471182 210.1097336  471.67531952]\n"
     ]
    }
   ],
   "source": [
    "#7 Crear un array de precios aleatorios\n",
    "precios_aleatorios = np.random.uniform(100, 500, 5)\n",
    "print(precios_aleatorios)"
   ]
  },
  {
   "cell_type": "code",
   "execution_count": 9,
   "metadata": {},
   "outputs": [
    {
     "name": "stdout",
     "output_type": "stream",
     "text": [
      "[2 9 4 1 1]\n"
     ]
    }
   ],
   "source": [
    "#8 Generar un array de números enteros aleatorios para la cantidad vendida\n",
    "unidades_vendidas = np.random.randint(1, 10, 5)\n",
    "print(unidades_vendidas)"
   ]
  },
  {
   "cell_type": "code",
   "execution_count": 10,
   "metadata": {},
   "outputs": [
    {
     "name": "stdout",
     "output_type": "stream",
     "text": [
      "[[483.24284798]\n",
      " [181.09480526]\n",
      " [185.13471182]\n",
      " [210.1097336 ]\n",
      " [471.67531952]]\n"
     ]
    }
   ],
   "source": [
    "#9Crear un array vacío para almacenar los valores de descuento\n",
    "descuentos = np.empty((5, 1))\n",
    "print(descuentos)"
   ]
  },
  {
   "cell_type": "code",
   "execution_count": 11,
   "metadata": {},
   "outputs": [
    {
     "name": "stdout",
     "output_type": "stream",
     "text": [
      "[   0.  250.  500.  750. 1000.]\n"
     ]
    }
   ],
   "source": [
    "#10 Generar un array con valores espaciados para analizar el cambio en las ventas:\n",
    "ventas_espaciadas = np.linspace(0, 1000, 5)\n",
    "print(ventas_espaciadas)"
   ]
  }
 ],
 "metadata": {
  "kernelspec": {
   "display_name": ".venv",
   "language": "python",
   "name": "python3"
  },
  "language_info": {
   "codemirror_mode": {
    "name": "ipython",
    "version": 3
   },
   "file_extension": ".py",
   "mimetype": "text/x-python",
   "name": "python",
   "nbconvert_exporter": "python",
   "pygments_lexer": "ipython3",
   "version": "3.12.1"
  }
 },
 "nbformat": 4,
 "nbformat_minor": 4
}
