{
 "cells": [
  {
   "cell_type": "code",
   "execution_count": 29,
   "metadata": {},
   "outputs": [
    {
     "ename": "ModuleNotFoundError",
     "evalue": "No module named 'numpy'",
     "output_type": "error",
     "traceback": [
      "\u001b[1;31m---------------------------------------------------------------------------\u001b[0m",
      "\u001b[1;31mModuleNotFoundError\u001b[0m                       Traceback (most recent call last)",
      "Cell \u001b[1;32mIn[29], line 1\u001b[0m\n\u001b[1;32m----> 1\u001b[0m \u001b[38;5;28;01mimport\u001b[39;00m\u001b[38;5;250m \u001b[39m\u001b[38;5;21;01mnumpy\u001b[39;00m\u001b[38;5;250m \u001b[39m\u001b[38;5;28;01mas\u001b[39;00m\u001b[38;5;250m \u001b[39m\u001b[38;5;21;01mnp\u001b[39;00m\n\u001b[0;32m      3\u001b[0m \u001b[38;5;66;03m# 1Crear un array unidimensional con el nombre de los productos\u001b[39;00m\n\u001b[0;32m      4\u001b[0m productos \u001b[38;5;241m=\u001b[39m np\u001b[38;5;241m.\u001b[39marray([\u001b[38;5;124m\"\u001b[39m\u001b[38;5;124mSmartphone\u001b[39m\u001b[38;5;124m\"\u001b[39m, \u001b[38;5;124m\"\u001b[39m\u001b[38;5;124mTablet\u001b[39m\u001b[38;5;124m\"\u001b[39m, \u001b[38;5;124m\"\u001b[39m\u001b[38;5;124mLaptop\u001b[39m\u001b[38;5;124m\"\u001b[39m, \u001b[38;5;124m\"\u001b[39m\u001b[38;5;124mAuriculares\u001b[39m\u001b[38;5;124m\"\u001b[39m, \u001b[38;5;124m\"\u001b[39m\u001b[38;5;124mTeclado\u001b[39m\u001b[38;5;124m\"\u001b[39m])\n",
      "\u001b[1;31mModuleNotFoundError\u001b[0m: No module named 'numpy'"
     ]
    }
   ],
   "source": [
    "import numpy as np\n",
    "\n",
    "# 1Crear un array unidimensional con el nombre de los productos\n",
    "productos = np.array([\"Smartphone\", \"Tablet\", \"Laptop\", \"Auriculares\", \"Teclado\"])\n",
    "print(productos)"
   ]
  },
  {
   "cell_type": "code",
   "execution_count": 22,
   "metadata": {},
   "outputs": [
    {
     "ename": "NameError",
     "evalue": "name 'np' is not defined",
     "output_type": "error",
     "traceback": [
      "\u001b[1;31m---------------------------------------------------------------------------\u001b[0m",
      "\u001b[1;31mNameError\u001b[0m                                 Traceback (most recent call last)",
      "Cell \u001b[1;32mIn[22], line 2\u001b[0m\n\u001b[0;32m      1\u001b[0m \u001b[38;5;66;03m# 2Crear un array bidimensional con la cantidad en stock de cada producto\u001b[39;00m\n\u001b[1;32m----> 2\u001b[0m stock \u001b[38;5;241m=\u001b[39m \u001b[43mnp\u001b[49m\u001b[38;5;241m.\u001b[39marray([\n\u001b[0;32m      3\u001b[0m     [\u001b[38;5;241m50\u001b[39m, \u001b[38;5;241m20\u001b[39m, \u001b[38;5;241m30\u001b[39m],  \u001b[38;5;66;03m# stock de smartphone en diferentes almacenes\u001b[39;00m\n\u001b[0;32m      4\u001b[0m     [\u001b[38;5;241m30\u001b[39m, \u001b[38;5;241m15\u001b[39m, \u001b[38;5;241m10\u001b[39m],  \u001b[38;5;66;03m# stock de tablet en diferentes almacenes\u001b[39;00m\n\u001b[0;32m      5\u001b[0m     [\u001b[38;5;241m15\u001b[39m, \u001b[38;5;241m10\u001b[39m, \u001b[38;5;241m5\u001b[39m],   \u001b[38;5;66;03m# stock de laptop en diferentes almacenes\u001b[39;00m\n\u001b[0;32m      6\u001b[0m     [\u001b[38;5;241m40\u001b[39m, \u001b[38;5;241m25\u001b[39m, \u001b[38;5;241m35\u001b[39m],  \u001b[38;5;66;03m# stock de auriculares en diferentes almacenes\u001b[39;00m\n\u001b[0;32m      7\u001b[0m     [\u001b[38;5;241m60\u001b[39m, \u001b[38;5;241m45\u001b[39m, \u001b[38;5;241m50\u001b[39m]   \u001b[38;5;66;03m# stock de teclado en diferentes almacenes\u001b[39;00m\n\u001b[0;32m      8\u001b[0m ])\n\u001b[0;32m      9\u001b[0m \u001b[38;5;28mprint\u001b[39m(stock)\n",
      "\u001b[1;31mNameError\u001b[0m: name 'np' is not defined"
     ]
    }
   ],
   "source": [
    "# 2Crear un array bidimensional con la cantidad en stock de cada producto\n",
    "stock = np.array([\n",
    "    [50, 20, 30],  # stock de smartphone en diferentes almacenes\n",
    "    [30, 15, 10],  # stock de tablet en diferentes almacenes\n",
    "    [15, 10, 5],   # stock de laptop en diferentes almacenes\n",
    "    [40, 25, 35],  # stock de auriculares en diferentes almacenes\n",
    "    [60, 45, 50]   # stock de teclado en diferentes almacenes\n",
    "])\n",
    "print(stock)"
   ]
  },
  {
   "cell_type": "code",
   "execution_count": 23,
   "metadata": {},
   "outputs": [
    {
     "ename": "NameError",
     "evalue": "name 'np' is not defined",
     "output_type": "error",
     "traceback": [
      "\u001b[1;31m---------------------------------------------------------------------------\u001b[0m",
      "\u001b[1;31mNameError\u001b[0m                                 Traceback (most recent call last)",
      "Cell \u001b[1;32mIn[23], line 2\u001b[0m\n\u001b[0;32m      1\u001b[0m \u001b[38;5;66;03m#3 Crear un array tridimensional para registrar las ventas de cada producto durante una semana\u001b[39;00m\n\u001b[1;32m----> 2\u001b[0m ventas \u001b[38;5;241m=\u001b[39m \u001b[43mnp\u001b[49m\u001b[38;5;241m.\u001b[39marray([\n\u001b[0;32m      3\u001b[0m     [\u001b[38;5;241m5\u001b[39m, \u001b[38;5;241m3\u001b[39m, \u001b[38;5;241m2\u001b[39m, \u001b[38;5;241m6\u001b[39m, \u001b[38;5;241m4\u001b[39m],  \n\u001b[0;32m      4\u001b[0m     [\u001b[38;5;241m7\u001b[39m, \u001b[38;5;241m4\u001b[39m, \u001b[38;5;241m1\u001b[39m, \u001b[38;5;241m8\u001b[39m, \u001b[38;5;241m5\u001b[39m],  \n\u001b[0;32m      5\u001b[0m     [\u001b[38;5;241m6\u001b[39m, \u001b[38;5;241m2\u001b[39m, \u001b[38;5;241m3\u001b[39m, \u001b[38;5;241m5\u001b[39m, \u001b[38;5;241m4\u001b[39m]   \n\u001b[0;32m      6\u001b[0m ])\n\u001b[0;32m      7\u001b[0m \u001b[38;5;28mprint\u001b[39m(ventas)\n",
      "\u001b[1;31mNameError\u001b[0m: name 'np' is not defined"
     ]
    }
   ],
   "source": [
    "#3 Crear un array tridimensional para registrar las ventas de cada producto durante una semana\n",
    "ventas = np.array([\n",
    "    [5, 3, 2, 6, 4],  \n",
    "    [7, 4, 1, 8, 5],  \n",
    "    [6, 2, 3, 5, 4]   \n",
    "])\n",
    "print(ventas)"
   ]
  },
  {
   "cell_type": "code",
   "execution_count": null,
   "metadata": {},
   "outputs": [],
   "source": [
    "#4 Crear un array de ceros para los productos no vendidos hoy\n",
    "no_vendidos = np.zeros(5)\n",
    "print(no_vendidos)"
   ]
  },
  {
   "cell_type": "code",
   "execution_count": null,
   "metadata": {},
   "outputs": [],
   "source": [
    "#5Crear un array de unos para los productos que están en promoción\n",
    "promocion = np.array([1, 0, 0, 0, 1])\n",
    "print(promocion)"
   ]
  },
  {
   "cell_type": "code",
   "execution_count": null,
   "metadata": {},
   "outputs": [],
   "source": [
    "#6 Crear un array con un rango de precios de productos\n",
    "precios_rango = np.arange(50, 1050, 50)\n",
    "print(precios_rango)"
   ]
  },
  {
   "cell_type": "code",
   "execution_count": null,
   "metadata": {},
   "outputs": [],
   "source": [
    "#7 Crear un array de precios aleatorios\n",
    "precios_aleatorios = np.random.uniform(100, 500, 5)\n",
    "print(precios_aleatorios)"
   ]
  },
  {
   "cell_type": "code",
   "execution_count": null,
   "metadata": {},
   "outputs": [],
   "source": [
    "#8 Generar un array de números enteros aleatorios para la cantidad vendida\n",
    "unidades_vendidas = np.random.randint(1, 10, 5)\n",
    "print(unidades_vendidas)"
   ]
  },
  {
   "cell_type": "code",
   "execution_count": 28,
   "metadata": {},
   "outputs": [
    {
     "ename": "NameError",
     "evalue": "name 'np' is not defined",
     "output_type": "error",
     "traceback": [
      "\u001b[1;31m---------------------------------------------------------------------------\u001b[0m",
      "\u001b[1;31mNameError\u001b[0m                                 Traceback (most recent call last)",
      "Cell \u001b[1;32mIn[28], line 2\u001b[0m\n\u001b[0;32m      1\u001b[0m \u001b[38;5;66;03m#9Crear un array vacío para almacenar los valores de descuento\u001b[39;00m\n\u001b[1;32m----> 2\u001b[0m descuentos \u001b[38;5;241m=\u001b[39m \u001b[43mnp\u001b[49m\u001b[38;5;241m.\u001b[39mempty((\u001b[38;5;241m5\u001b[39m, \u001b[38;5;241m1\u001b[39m))\n\u001b[0;32m      3\u001b[0m \u001b[38;5;28mprint\u001b[39m(descuentos)\n",
      "\u001b[1;31mNameError\u001b[0m: name 'np' is not defined"
     ]
    }
   ],
   "source": [
    "#9Crear un array vacío para almacenar los valores de descuento\n",
    "descuentos = np.empty((5, 1))\n",
    "print(descuentos)"
   ]
  },
  {
   "cell_type": "code",
   "execution_count": null,
   "metadata": {},
   "outputs": [],
   "source": [
    "#10 Generar un array con valores espaciados para analizar el cambio en las ventas:\n",
    "ventas_espaciadas = np.linspace(0, 1000, 5)\n",
    "print(ventas_espaciadas)"
   ]
  }
 ],
 "metadata": {
  "kernelspec": {
   "display_name": ".venv",
   "language": "python",
   "name": "python3"
  },
  "language_info": {
   "codemirror_mode": {
    "name": "ipython",
    "version": 3
   },
   "file_extension": ".py",
   "mimetype": "text/x-python",
   "name": "python",
   "nbconvert_exporter": "python",
   "pygments_lexer": "ipython3",
   "version": "3.12.1"
  }
 },
 "nbformat": 4,
 "nbformat_minor": 4
}
